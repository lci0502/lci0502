{
 "cells": [
  {
   "cell_type": "code",
   "execution_count": 1,
   "metadata": {},
   "outputs": [
    {
     "name": "stdout",
     "output_type": "stream",
     "text": [
      "WARNING:tensorflow:From C:\\Users\\codls\\Anaconda3\\lib\\site-packages\\tensorflow_core\\python\\compat\\v2_compat.py:65: disable_resource_variables (from tensorflow.python.ops.variable_scope) is deprecated and will be removed in a future version.\n",
      "Instructions for updating:\n",
      "non-resource variables are not supported in the long term\n"
     ]
    },
    {
     "name": "stderr",
     "output_type": "stream",
     "text": [
      "Using TensorFlow backend.\n"
     ]
    }
   ],
   "source": [
    "import cv2 as cv\n",
    "import matplotlib.pyplot as plt\n",
    "import numpy as np\n",
    "import os\n",
    "import pydicom as dicom\n",
    "import glob\n",
    "import mritopng\n",
    "import random\n",
    "import tensorflow.compat.v1 as tf #tf v2는 아직 불안정\n",
    "tf.disable_v2_behavior() \n",
    "\n",
    "from numpy import expand_dims\n",
    "from PIL import Image\n",
    "from keras.preprocessing.image import load_img\n",
    "from keras.preprocessing.image import img_to_array\n",
    "from tensorflow.keras.models import Sequential\n",
    "from tensorflow.keras.layers import Dense, Activation, Dropout, Flatten, Dense, Conv2D, MaxPooling2D\n",
    "from tensorflow.keras.preprocessing.image import ImageDataGenerator\n",
    "from tensorflow.keras import optimizers, initializers, regularizers, metrics"
   ]
  },
  {
   "cell_type": "code",
   "execution_count": 28,
   "metadata": {},
   "outputs": [],
   "source": [
    "# 이미지 변형(ImageDataGenerator)\n",
    "# train_non and magon image augmentation\n",
    "train_datagen = ImageDataGenerator(\n",
    "                            rescale = 1./255, #이미지 크기 변경, 0~1로 정규화\n",
    "                            brightness_range = [0.2,1.0], # 밝기 0.2~1\n",
    "                            rotation_range = 5, # 회전\n",
    "                            height_shift_range = 0.1, # 10% 범위 위, 아래로 이동\n",
    "                            width_shift_range = 0.1,# 10% 범위 양 옆로 이동\n",
    "                            #shear_range = 0.7,\n",
    "                            #zoom_range = [0.9,2.2], # 정해진 범위 안에서 축소/확대\n",
    "                            fill_mode = 'nearest')\n",
    "\n",
    "# test_non and test_magon rescale\n",
    "res_datagen = ImageDataGenerator(rescale = 1./255)"
   ]
  },
  {
   "cell_type": "code",
   "execution_count": 3,
   "metadata": {},
   "outputs": [
    {
     "name": "stdout",
     "output_type": "stream",
     "text": [
      "Found 62 images belonging to 2 classes.\n"
     ]
    }
   ],
   "source": [
    "# test_non and magon rescale\n",
    "te_generator = res_datagen.flow_from_directory('C:/Users/codls/Desktop/findheart/test', \n",
    "                      target_size= (150, 150), # 사이즈가 다르더라도 자동 조절\n",
    "                      batch_size = 5,\n",
    "                                               class_mode = 'binary')"
   ]
  },
  {
   "cell_type": "code",
   "execution_count": 5,
   "metadata": {},
   "outputs": [
    {
     "data": {
      "text/plain": [
       "'nonh69.png'"
      ]
     },
     "execution_count": 5,
     "metadata": {},
     "output_type": "execute_result"
    }
   ],
   "source": [
    "path = 'C:/Users/codls/Desktop/findheart/train/non/'\n",
    "file_list = os.listdir(path)"
   ]
  },
  {
   "cell_type": "code",
   "execution_count": 29,
   "metadata": {},
   "outputs": [
    {
     "name": "stdout",
     "output_type": "stream",
     "text": [
      "nonh140.png\n",
      "nonh209.png\n",
      "nonh219.png\n",
      "nonh230.png\n",
      "nonh216.png\n",
      "nonh229.png\n",
      "nonh135.png\n",
      "nonh102.png\n",
      "nonh206.png\n",
      "nonh44.png\n",
      "nonh47.png\n",
      "nonh201.png\n",
      "nonh65.png\n",
      "nonh137.png\n",
      "nonh154.png\n",
      "nonh126.png\n",
      "nonh248.png\n"
     ]
    }
   ],
   "source": [
    "# train-non의 253개 중 랜덤으로 17개를 골라 augment\n",
    "for i in range(17):\n",
    "    choiceList = random.choice(file_list)\n",
    "    print(choiceList) # 랜덤으로 하나 출력\n",
    "    x = cv.imread(path+choiceList)\n",
    "    x = x.reshape((1,)+x.shape)\n",
    "    \n",
    "    it = train_datagen.flow(x, batch_size = 5,\n",
    "                       save_to_dir = 'C:/Users/codls/Desktop/findhearttrain/non/',\n",
    "                       save_prefix = 'non', save_format = 'png')\n",
    "    \n",
    "    batch = it.next()"
   ]
  },
  {
   "cell_type": "code",
   "execution_count": 64,
   "metadata": {},
   "outputs": [],
   "source": [
    "# train-magon\n",
    "path2 = 'C:/Users/codls/Desktop/findheart/train/magon/'\n",
    "file_list2 = os.listdir(path2)"
   ]
  },
  {
   "cell_type": "code",
   "execution_count": 63,
   "metadata": {},
   "outputs": [],
   "source": [
    "# train magon\n",
    "for i in range(251):\n",
    "    choiceList2 = random.choice(file_list2)\n",
    "    #print(choiceList2) # 랜덤으로 하나 출력\n",
    "    x2 = cv.imread(path2+choiceList2)\n",
    "    x2 = x2.reshape((1,)+x2.shape)\n",
    "    \n",
    "    it = train_datagen.flow(x2, batch_size = 5,\n",
    "                       save_to_dir = 'C:/Users/codls/Desktop/findheart/train/magon',\n",
    "                       save_prefix = 'heart', save_format = 'png')\n",
    "    \n",
    "    batch = it.next()"
   ]
  },
  {
   "cell_type": "code",
   "execution_count": null,
   "metadata": {},
   "outputs": [],
   "source": []
  }
 ],
 "metadata": {
  "kernelspec": {
   "display_name": "Python 3",
   "language": "python",
   "name": "python3"
  },
  "language_info": {
   "codemirror_mode": {
    "name": "ipython",
    "version": 3
   },
   "file_extension": ".py",
   "mimetype": "text/x-python",
   "name": "python",
   "nbconvert_exporter": "python",
   "pygments_lexer": "ipython3",
   "version": "3.7.3"
  }
 },
 "nbformat": 4,
 "nbformat_minor": 4
}
